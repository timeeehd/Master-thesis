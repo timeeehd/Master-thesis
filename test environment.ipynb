{
 "cells": [
  {
   "cell_type": "code",
   "execution_count": 57,
   "id": "e63b4bbc",
   "metadata": {},
   "outputs": [
    {
     "name": "stdout",
     "output_type": "stream",
     "text": [
      "2\n",
      "581\n"
     ]
    },
    {
     "data": {
      "text/plain": [
       "' ; but the name Goody Two Shoes \" is still familiar to the ears of English children, though the many of these little books have been doubtless long since forgotten ; but the name Goody Two Shoes \" is ; but the name Goody Two Shoes \" is still familiar to the ears of English children, though the book ; but the name Goody Two Shoes \" is still familiar to the ears of English children, though the they did not deserve such fate ; but the name Goody Two Shoes \" is still familiar to the ears of \" ; but the name Goody Two Shoes \" is still familiar to the ears of English children, though the \" ; but the name Goody Two Shoes \" is still familiar to the ears of English children, though the \" ; but the name Goody Two Shoes \" is still familiar to the ears of English children, though the \" ; but the name Goody Two Shoes \" is still familiar to the ears of English children, though the \" ; but the name Goody Two Shoes \" is still familiar to the ears of English children, though the\\n'"
      ]
     },
     "execution_count": 57,
     "metadata": {},
     "output_type": "execute_result"
    }
   ],
   "source": [
    "with open('results/test.txt', encoding='utf-8') as f:\n",
    "    stories = f.readlines()\n",
    "print(len(stories))\n",
    "print(len(stories[0]))\n",
    "stories[1]"
   ]
  },
  {
   "cell_type": "code",
   "execution_count": 50,
   "id": "95c958b7",
   "metadata": {},
   "outputs": [
    {
     "data": {
      "text/plain": [
       "'<fantasy>  And the Maid to give me my tablets oft , so that I eat a great many ; and  I did make her to count ; and surely there did be sufficient , if that I  get strong pretty quick .\\n'"
      ]
     },
     "execution_count": 50,
     "metadata": {},
     "output_type": "execute_result"
    }
   ],
   "source": [
    "df = pd.read_csv('data/test.csv', sep='\\t', encoding='utf-8')\n",
    "data = [x for x in df['source_text']][:10]\n",
    "data[1]"
   ]
  },
  {
   "cell_type": "code",
   "execution_count": 58,
   "id": "60ced37a",
   "metadata": {},
   "outputs": [
    {
     "name": "stdout",
     "output_type": "stream",
     "text": [
      "2\n"
     ]
    },
    {
     "data": {
      "text/plain": [
       "'\"[A ]  Many of these little books have been doubtless long since forgotten ,  though they did not deserve such a fate ; but the name of \" Goody Two  Shoes \" is still familiar to the ears of English children , though the  book itself may be unknown to thousands of little ones of this later  generation . ; but the name Goody Two Shoes \" is still familiar to the ears of English children, though the many of these little books have been doubtless long since forgotten ; but the name Goody Two Shoes \" is ; but the name Goody Two Shoes \" is still familiar to the ears of English children, though the book ; but the name Goody Two Shoes \" is still familiar to the ears of English children, though the they did not deserve such fate ; but the name Goody Two Shoes \" is still familiar to the ears of \" ; but the name Goody Two Shoes \" is still familiar to the ears of English children, though the \" ; but the name Goody Two Shoes \" is still familiar to the ears of English children, though the \" ; but the name Goody Two Shoes \" is still familiar to the ears of English children, though the \" ; but the name Goody Two Shoes \" is still familiar to the ears of English children, though the \" ; but the name Goody Two Shoes \" is still familiar to the ears of English children, though the\\n'"
      ]
     },
     "execution_count": 58,
     "metadata": {},
     "output_type": "execute_result"
    }
   ],
   "source": [
    "with open('results/test2.txt',  encoding='utf-8') as f:\n",
    "    stories = f.readlines()\n",
    "print(len(stories))\n",
    "stories[1]"
   ]
  },
  {
   "cell_type": "code",
   "execution_count": 5,
   "id": "f45a11cb",
   "metadata": {},
   "outputs": [
    {
     "data": {
      "text/html": [
       "<div>\n",
       "<style scoped>\n",
       "    .dataframe tbody tr th:only-of-type {\n",
       "        vertical-align: middle;\n",
       "    }\n",
       "\n",
       "    .dataframe tbody tr th {\n",
       "        vertical-align: top;\n",
       "    }\n",
       "\n",
       "    .dataframe thead th {\n",
       "        text-align: right;\n",
       "    }\n",
       "</style>\n",
       "<table border=\"1\" class=\"dataframe\">\n",
       "  <thead>\n",
       "    <tr style=\"text-align: right;\">\n",
       "      <th></th>\n",
       "      <th>source_text</th>\n",
       "      <th>target_text</th>\n",
       "    </tr>\n",
       "  </thead>\n",
       "  <tbody>\n",
       "    <tr>\n",
       "      <th>0</th>\n",
       "      <td>&lt;fantasy&gt;  And the Maid to give me my tablets ...</td>\n",
       "      <td>And so I made no refusing of the tablets ; for...</td>\n",
       "    </tr>\n",
       "    <tr>\n",
       "      <th>1</th>\n",
       "      <td>&lt;fairy&gt; While he was washing the King passed b...</td>\n",
       "      <td>”  At this noise the King put his head out of ...</td>\n",
       "    </tr>\n",
       "    <tr>\n",
       "      <th>2</th>\n",
       "      <td>&lt;fairy&gt;  So soon as he recovered himself , the...</td>\n",
       "      <td>Tranquilly permitting these  irregular cursing...</td>\n",
       "    </tr>\n",
       "    <tr>\n",
       "      <th>3</th>\n",
       "      <td>&lt;fairy&gt; The latter , who knew him well and who...</td>\n",
       "      <td>He traveled for two  days and two nights in a ...</td>\n",
       "    </tr>\n",
       "  </tbody>\n",
       "</table>\n",
       "</div>"
      ],
      "text/plain": [
       "                                         source_text  \\\n",
       "0  <fantasy>  And the Maid to give me my tablets ...   \n",
       "1  <fairy> While he was washing the King passed b...   \n",
       "2  <fairy>  So soon as he recovered himself , the...   \n",
       "3  <fairy> The latter , who knew him well and who...   \n",
       "\n",
       "                                         target_text  \n",
       "0  And so I made no refusing of the tablets ; for...  \n",
       "1  ”  At this noise the King put his head out of ...  \n",
       "2  Tranquilly permitting these  irregular cursing...  \n",
       "3  He traveled for two  days and two nights in a ...  "
      ]
     },
     "execution_count": 5,
     "metadata": {},
     "output_type": "execute_result"
    }
   ],
   "source": [
    "import pandas as pd\n",
    "\n",
    "df = pd.read_csv('data/test.csv', sep='\\t', encoding='utf-8')\n",
    "df.head(4)"
   ]
  },
  {
   "cell_type": "code",
   "execution_count": 7,
   "id": "c8a47997",
   "metadata": {},
   "outputs": [
    {
     "data": {
      "text/plain": [
       "['<fantasy>  And the Maid to give me my tablets oft , so that I eat a great many ; and  I did make her to count ; and surely there did be sufficient , if that I  get strong pretty quick .\\n',\n",
       " '<fairy> While he was washing the King passed by , and the Cat  began to cry out :  “ Help ! help ! My Lord Marquis of Carabas is going to be drowned .\\n',\n",
       " '<fairy>  So soon as he recovered himself , the poor little negro was assailed by  yells and execrations from the crew .\\n',\n",
       " '<fairy> The latter , who knew him well and who  spoke Cree fluently , undertook to look after him .\\n']"
      ]
     },
     "execution_count": 7,
     "metadata": {},
     "output_type": "execute_result"
    }
   ],
   "source": [
    "data = [x for x in df['source_text'][:4]]\n",
    "data"
   ]
  }
 ],
 "metadata": {
  "kernelspec": {
   "display_name": "Python 3 (ipykernel)",
   "language": "python",
   "name": "python3"
  },
  "language_info": {
   "codemirror_mode": {
    "name": "ipython",
    "version": 3
   },
   "file_extension": ".py",
   "mimetype": "text/x-python",
   "name": "python",
   "nbconvert_exporter": "python",
   "pygments_lexer": "ipython3",
   "version": "3.7.9"
  }
 },
 "nbformat": 4,
 "nbformat_minor": 5
}
