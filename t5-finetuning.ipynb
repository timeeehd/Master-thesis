{
 "cells": [
  {
   "cell_type": "code",
   "execution_count": 19,
   "metadata": {
    "_cell_guid": "b1076dfc-b9ad-4769-8c92-a6c4dae69d19",
    "_uuid": "8f2839f25d086af736a60e9eeb907d3b93b6e0e5",
    "execution": {
     "iopub.execute_input": "2022-05-12T07:17:11.665995Z",
     "iopub.status.busy": "2022-05-12T07:17:11.665669Z",
     "iopub.status.idle": "2022-05-12T07:17:11.713579Z",
     "shell.execute_reply": "2022-05-12T07:17:11.712876Z",
     "shell.execute_reply.started": "2022-05-12T07:17:11.665914Z"
    }
   },
   "outputs": [],
   "source": [
    "# This Pythohttp://localhost:8888/notebooks/t5-finetuning.ipynb#n 3 environment comes with many helpful analytics libraries installed\n",
    "# It is defined by the kaggle/python Docker image: https://github.com/kaggle/docker-python\n",
    "# For example, here's several helpful packages to load\n",
    "\n",
    "import numpy as np # linear algebra\n",
    "import pandas as pd # data processing, CSV file I/O (e.g. pd.read_csv)\n",
    "\n",
    "# Input data files are available in the read-only \"../input/\" directory\n",
    "# For example, running this (by clicking run or pressing Shift+Enter) will list all files under the input directory\n",
    "\n",
    "import os\n",
    "for dirname, _, filenames in os.walk('/kaggle/input'):\n",
    "    for filename in filenames:\n",
    "        print(os.path.join(dirname, filename))\n",
    "\n",
    "# You can write up to 20GB to the current directory (/kaggle/working/) that gets preserved as output when you create a version using \"Save & Run All\" \n",
    "# You can also write temporary files to /kaggle/temp/, but they won't be saved outside of the current session"
   ]
  },
  {
   "cell_type": "code",
   "execution_count": 20,
   "metadata": {
    "execution": {
     "iopub.execute_input": "2022-05-12T07:17:11.716843Z",
     "iopub.status.busy": "2022-05-12T07:17:11.716416Z",
     "iopub.status.idle": "2022-05-12T07:17:41.765097Z",
     "shell.execute_reply": "2022-05-12T07:17:41.764229Z",
     "shell.execute_reply.started": "2022-05-12T07:17:11.716796Z"
    }
   },
   "outputs": [
    {
     "name": "stdout",
     "output_type": "stream",
     "text": [
      "Requirement already satisfied: simplet5 in c:\\users\\tfede\\documents\\github\\master-thesis\\venv\\lib\\site-packages (0.1.4)\n",
      "Requirement already satisfied: transformers==4.16.2 in c:\\users\\tfede\\documents\\github\\master-thesis\\venv\\lib\\site-packages (from simplet5) (4.16.2)\n",
      "Requirement already satisfied: numpy in c:\\users\\tfede\\documents\\github\\master-thesis\\venv\\lib\\site-packages (from simplet5) (1.21.6)\n",
      "Requirement already satisfied: pytorch-lightning==1.5.10 in c:\\users\\tfede\\documents\\github\\master-thesis\\venv\\lib\\site-packages (from simplet5) (1.5.10)\n",
      "Requirement already satisfied: sentencepiece in c:\\users\\tfede\\documents\\github\\master-thesis\\venv\\lib\\site-packages (from simplet5) (0.1.96)\n",
      "Requirement already satisfied: torch!=1.8.0,>=1.7.0 in c:\\users\\tfede\\documents\\github\\master-thesis\\venv\\lib\\site-packages (from simplet5) (1.11.0+cu113)\n",
      "Requirement already satisfied: pandas in c:\\users\\tfede\\documents\\github\\master-thesis\\venv\\lib\\site-packages (from simplet5) (1.3.5)\n",
      "Requirement already satisfied: torchmetrics>=0.4.1 in c:\\users\\tfede\\documents\\github\\master-thesis\\venv\\lib\\site-packages (from pytorch-lightning==1.5.10->simplet5) (0.8.2)\n",
      "Requirement already satisfied: fsspec[http]!=2021.06.0,>=2021.05.0 in c:\\users\\tfede\\documents\\github\\master-thesis\\venv\\lib\\site-packages (from pytorch-lightning==1.5.10->simplet5) (2022.3.0)\n",
      "Requirement already satisfied: future>=0.17.1 in c:\\users\\tfede\\documents\\github\\master-thesis\\venv\\lib\\site-packages (from pytorch-lightning==1.5.10->simplet5) (0.18.2)\n",
      "Requirement already satisfied: pyDeprecate==0.3.1 in c:\\users\\tfede\\documents\\github\\master-thesis\\venv\\lib\\site-packages (from pytorch-lightning==1.5.10->simplet5) (0.3.1)\n",
      "Requirement already satisfied: setuptools==59.5.0 in c:\\users\\tfede\\documents\\github\\master-thesis\\venv\\lib\\site-packages (from pytorch-lightning==1.5.10->simplet5) (59.5.0)\n",
      "Requirement already satisfied: typing-extensions in c:\\users\\tfede\\documents\\github\\master-thesis\\venv\\lib\\site-packages (from pytorch-lightning==1.5.10->simplet5) (4.2.0)\n",
      "Requirement already satisfied: packaging>=17.0 in c:\\users\\tfede\\documents\\github\\master-thesis\\venv\\lib\\site-packages (from pytorch-lightning==1.5.10->simplet5) (21.3)\n",
      "Requirement already satisfied: PyYAML>=5.1 in c:\\users\\tfede\\documents\\github\\master-thesis\\venv\\lib\\site-packages (from pytorch-lightning==1.5.10->simplet5) (6.0)\n",
      "Requirement already satisfied: tqdm>=4.41.0 in c:\\users\\tfede\\documents\\github\\master-thesis\\venv\\lib\\site-packages (from pytorch-lightning==1.5.10->simplet5) (4.64.0)\n",
      "Requirement already satisfied: tensorboard>=2.2.0 in c:\\users\\tfede\\documents\\github\\master-thesis\\venv\\lib\\site-packages (from pytorch-lightning==1.5.10->simplet5) (2.9.0)\n",
      "Requirement already satisfied: filelock in c:\\users\\tfede\\documents\\github\\master-thesis\\venv\\lib\\site-packages (from transformers==4.16.2->simplet5) (3.6.0)\n",
      "Requirement already satisfied: importlib-metadata in c:\\users\\tfede\\documents\\github\\master-thesis\\venv\\lib\\site-packages (from transformers==4.16.2->simplet5) (4.11.3)\n",
      "Requirement already satisfied: tokenizers!=0.11.3,>=0.10.1 in c:\\users\\tfede\\documents\\github\\master-thesis\\venv\\lib\\site-packages (from transformers==4.16.2->simplet5) (0.12.1)\n",
      "Requirement already satisfied: huggingface-hub<1.0,>=0.1.0 in c:\\users\\tfede\\documents\\github\\master-thesis\\venv\\lib\\site-packages (from transformers==4.16.2->simplet5) (0.5.1)\n",
      "Requirement already satisfied: sacremoses in c:\\users\\tfede\\documents\\github\\master-thesis\\venv\\lib\\site-packages (from transformers==4.16.2->simplet5) (0.0.53)\n",
      "Requirement already satisfied: regex!=2019.12.17 in c:\\users\\tfede\\documents\\github\\master-thesis\\venv\\lib\\site-packages (from transformers==4.16.2->simplet5) (2022.4.24)\n",
      "Requirement already satisfied: requests in c:\\users\\tfede\\documents\\github\\master-thesis\\venv\\lib\\site-packages (from transformers==4.16.2->simplet5) (2.27.1)\n",
      "Requirement already satisfied: aiohttp in c:\\users\\tfede\\documents\\github\\master-thesis\\venv\\lib\\site-packages (from fsspec[http]!=2021.06.0,>=2021.05.0->pytorch-lightning==1.5.10->simplet5) (3.8.1)\n",
      "Requirement already satisfied: pyparsing!=3.0.5,>=2.0.2 in c:\\users\\tfede\\documents\\github\\master-thesis\\venv\\lib\\site-packages (from packaging>=17.0->pytorch-lightning==1.5.10->simplet5) (3.0.8)\n",
      "Requirement already satisfied: werkzeug>=1.0.1 in c:\\users\\tfede\\documents\\github\\master-thesis\\venv\\lib\\site-packages (from tensorboard>=2.2.0->pytorch-lightning==1.5.10->simplet5) (2.1.2)\n",
      "Requirement already satisfied: tensorboard-data-server<0.7.0,>=0.6.0 in c:\\users\\tfede\\documents\\github\\master-thesis\\venv\\lib\\site-packages (from tensorboard>=2.2.0->pytorch-lightning==1.5.10->simplet5) (0.6.1)\n",
      "Requirement already satisfied: absl-py>=0.4 in c:\\users\\tfede\\documents\\github\\master-thesis\\venv\\lib\\site-packages (from tensorboard>=2.2.0->pytorch-lightning==1.5.10->simplet5) (1.0.0)\n",
      "Requirement already satisfied: google-auth<3,>=1.6.3 in c:\\users\\tfede\\documents\\github\\master-thesis\\venv\\lib\\site-packages (from tensorboard>=2.2.0->pytorch-lightning==1.5.10->simplet5) (2.6.6)\n",
      "Requirement already satisfied: wheel>=0.26 in c:\\users\\tfede\\documents\\github\\master-thesis\\venv\\lib\\site-packages (from tensorboard>=2.2.0->pytorch-lightning==1.5.10->simplet5) (0.36.2)\n",
      "Requirement already satisfied: tensorboard-plugin-wit>=1.6.0 in c:\\users\\tfede\\documents\\github\\master-thesis\\venv\\lib\\site-packages (from tensorboard>=2.2.0->pytorch-lightning==1.5.10->simplet5) (1.8.1)\n",
      "Requirement already satisfied: protobuf>=3.9.2 in c:\\users\\tfede\\documents\\github\\master-thesis\\venv\\lib\\site-packages (from tensorboard>=2.2.0->pytorch-lightning==1.5.10->simplet5) (3.20.1)\n",
      "Requirement already satisfied: markdown>=2.6.8 in c:\\users\\tfede\\documents\\github\\master-thesis\\venv\\lib\\site-packages (from tensorboard>=2.2.0->pytorch-lightning==1.5.10->simplet5) (3.3.7)\n",
      "Requirement already satisfied: grpcio>=1.24.3 in c:\\users\\tfede\\documents\\github\\master-thesis\\venv\\lib\\site-packages (from tensorboard>=2.2.0->pytorch-lightning==1.5.10->simplet5) (1.46.1)\n",
      "Requirement already satisfied: google-auth-oauthlib<0.5,>=0.4.1 in c:\\users\\tfede\\documents\\github\\master-thesis\\venv\\lib\\site-packages (from tensorboard>=2.2.0->pytorch-lightning==1.5.10->simplet5) (0.4.6)\n",
      "Requirement already satisfied: six in c:\\users\\tfede\\documents\\github\\master-thesis\\venv\\lib\\site-packages (from absl-py>=0.4->tensorboard>=2.2.0->pytorch-lightning==1.5.10->simplet5) (1.16.0)\n",
      "Requirement already satisfied: rsa<5,>=3.1.4 in c:\\users\\tfede\\documents\\github\\master-thesis\\venv\\lib\\site-packages (from google-auth<3,>=1.6.3->tensorboard>=2.2.0->pytorch-lightning==1.5.10->simplet5) (4.8)\n",
      "Requirement already satisfied: pyasn1-modules>=0.2.1 in c:\\users\\tfede\\documents\\github\\master-thesis\\venv\\lib\\site-packages (from google-auth<3,>=1.6.3->tensorboard>=2.2.0->pytorch-lightning==1.5.10->simplet5) (0.2.8)\n",
      "Requirement already satisfied: cachetools<6.0,>=2.0.0 in c:\\users\\tfede\\documents\\github\\master-thesis\\venv\\lib\\site-packages (from google-auth<3,>=1.6.3->tensorboard>=2.2.0->pytorch-lightning==1.5.10->simplet5) (5.0.0)\n",
      "Requirement already satisfied: requests-oauthlib>=0.7.0 in c:\\users\\tfede\\documents\\github\\master-thesis\\venv\\lib\\site-packages (from google-auth-oauthlib<0.5,>=0.4.1->tensorboard>=2.2.0->pytorch-lightning==1.5.10->simplet5) (1.3.1)\n",
      "Requirement already satisfied: zipp>=0.5 in c:\\users\\tfede\\documents\\github\\master-thesis\\venv\\lib\\site-packages (from importlib-metadata->transformers==4.16.2->simplet5) (3.8.0)\n",
      "Requirement already satisfied: pyasn1<0.5.0,>=0.4.6 in c:\\users\\tfede\\documents\\github\\master-thesis\\venv\\lib\\site-packages (from pyasn1-modules>=0.2.1->google-auth<3,>=1.6.3->tensorboard>=2.2.0->pytorch-lightning==1.5.10->simplet5) (0.4.8)\n",
      "Requirement already satisfied: idna<4,>=2.5 in c:\\users\\tfede\\documents\\github\\master-thesis\\venv\\lib\\site-packages (from requests->transformers==4.16.2->simplet5) (3.3)\n",
      "Requirement already satisfied: urllib3<1.27,>=1.21.1 in c:\\users\\tfede\\documents\\github\\master-thesis\\venv\\lib\\site-packages (from requests->transformers==4.16.2->simplet5) (1.26.9)\n",
      "Requirement already satisfied: charset-normalizer~=2.0.0 in c:\\users\\tfede\\documents\\github\\master-thesis\\venv\\lib\\site-packages (from requests->transformers==4.16.2->simplet5) (2.0.12)\n",
      "Requirement already satisfied: certifi>=2017.4.17 in c:\\users\\tfede\\documents\\github\\master-thesis\\venv\\lib\\site-packages (from requests->transformers==4.16.2->simplet5) (2021.10.8)\n",
      "Requirement already satisfied: oauthlib>=3.0.0 in c:\\users\\tfede\\documents\\github\\master-thesis\\venv\\lib\\site-packages (from requests-oauthlib>=0.7.0->google-auth-oauthlib<0.5,>=0.4.1->tensorboard>=2.2.0->pytorch-lightning==1.5.10->simplet5) (3.2.0)\n",
      "Requirement already satisfied: colorama in c:\\users\\tfede\\documents\\github\\master-thesis\\venv\\lib\\site-packages (from tqdm>=4.41.0->pytorch-lightning==1.5.10->simplet5) (0.4.4)\n",
      "Requirement already satisfied: attrs>=17.3.0 in c:\\users\\tfede\\documents\\github\\master-thesis\\venv\\lib\\site-packages (from aiohttp->fsspec[http]!=2021.06.0,>=2021.05.0->pytorch-lightning==1.5.10->simplet5) (21.4.0)\n",
      "Requirement already satisfied: aiosignal>=1.1.2 in c:\\users\\tfede\\documents\\github\\master-thesis\\venv\\lib\\site-packages (from aiohttp->fsspec[http]!=2021.06.0,>=2021.05.0->pytorch-lightning==1.5.10->simplet5) (1.2.0)\n",
      "Requirement already satisfied: asynctest==0.13.0 in c:\\users\\tfede\\documents\\github\\master-thesis\\venv\\lib\\site-packages (from aiohttp->fsspec[http]!=2021.06.0,>=2021.05.0->pytorch-lightning==1.5.10->simplet5) (0.13.0)\n",
      "Requirement already satisfied: async-timeout<5.0,>=4.0.0a3 in c:\\users\\tfede\\documents\\github\\master-thesis\\venv\\lib\\site-packages (from aiohttp->fsspec[http]!=2021.06.0,>=2021.05.0->pytorch-lightning==1.5.10->simplet5) (4.0.2)\n",
      "Requirement already satisfied: yarl<2.0,>=1.0 in c:\\users\\tfede\\documents\\github\\master-thesis\\venv\\lib\\site-packages (from aiohttp->fsspec[http]!=2021.06.0,>=2021.05.0->pytorch-lightning==1.5.10->simplet5) (1.7.2)\n",
      "Requirement already satisfied: frozenlist>=1.1.1 in c:\\users\\tfede\\documents\\github\\master-thesis\\venv\\lib\\site-packages (from aiohttp->fsspec[http]!=2021.06.0,>=2021.05.0->pytorch-lightning==1.5.10->simplet5) (1.3.0)\n",
      "Requirement already satisfied: multidict<7.0,>=4.5 in c:\\users\\tfede\\documents\\github\\master-thesis\\venv\\lib\\site-packages (from aiohttp->fsspec[http]!=2021.06.0,>=2021.05.0->pytorch-lightning==1.5.10->simplet5) (6.0.2)\n",
      "Requirement already satisfied: python-dateutil>=2.7.3 in c:\\users\\tfede\\documents\\github\\master-thesis\\venv\\lib\\site-packages (from pandas->simplet5) (2.8.2)\n",
      "Requirement already satisfied: pytz>=2017.3 in c:\\users\\tfede\\documents\\github\\master-thesis\\venv\\lib\\site-packages (from pandas->simplet5) (2022.1)\n",
      "Requirement already satisfied: click in c:\\users\\tfede\\documents\\github\\master-thesis\\venv\\lib\\site-packages (from sacremoses->transformers==4.16.2->simplet5) (8.1.3)\n",
      "Requirement already satisfied: joblib in c:\\users\\tfede\\documents\\github\\master-thesis\\venv\\lib\\site-packages (from sacremoses->transformers==4.16.2->simplet5) (1.1.0)\n"
     ]
    },
    {
     "name": "stderr",
     "output_type": "stream",
     "text": [
      "WARNING: You are using pip version 21.1.2; however, version 22.1.2 is available.\n",
      "You should consider upgrading via the 'C:\\Users\\tfede\\Documents\\GitHub\\Master-thesis\\venv\\Scripts\\python.exe -m pip install --upgrade pip' command.\n"
     ]
    }
   ],
   "source": [
    "!pip install simplet5"
   ]
  },
  {
   "cell_type": "code",
   "execution_count": 21,
   "metadata": {
    "execution": {
     "iopub.execute_input": "2022-05-12T07:17:41.770218Z",
     "iopub.status.busy": "2022-05-12T07:17:41.769946Z",
     "iopub.status.idle": "2022-05-12T07:17:42.337560Z",
     "shell.execute_reply": "2022-05-12T07:17:42.336839Z",
     "shell.execute_reply.started": "2022-05-12T07:17:41.770182Z"
    }
   },
   "outputs": [],
   "source": [
    "df = pd.read_csv('data/t5_data.csv', sep='\\t', encoding='utf-8')\n",
    "\n",
    "df2 = df.tail(50)"
   ]
  },
  {
   "cell_type": "code",
   "execution_count": 25,
   "metadata": {},
   "outputs": [],
   "source": [
    "from transformers import (\n",
    "    T5ForConditionalGeneration,\n",
    "    MT5ForConditionalGeneration,\n",
    "    ByT5Tokenizer,\n",
    "    PreTrainedTokenizer,\n",
    "    T5TokenizerFast as T5Tokenizer,\n",
    "    MT5TokenizerFast as MT5Tokenizer,\n",
    ")"
   ]
  },
  {
   "cell_type": "code",
   "execution_count": 41,
   "metadata": {},
   "outputs": [
    {
     "name": "stdout",
     "output_type": "stream",
     "text": [
      "Output:\n",
      "----------------------------------------------------------------------------------------------------\n",
      "i enjoy walking with my cute dog. i love walking with my cute dog. i love walking with my cute dog. i love walking with my cute dog. i love walking with my cute dog.\n"
     ]
    }
   ],
   "source": [
    "tokenizer = T5Tokenizer.from_pretrained(\"t5-small\")\n",
    "model = T5ForConditionalGeneration.from_pretrained(\"t5-small\")\n",
    "input_ids = tokenizer.encode('summarize: I enjoy walking with my cute dog', return_tensors='pt')\n",
    "greedy_output = model.generate(input_ids, min_length=50,max_length=100)\n",
    "print(\"Output:\\n\" + 100 * '-')\n",
    "\n",
    "print(tokenizer.decode(greedy_output[0], skip_special_tokens=True))"
   ]
  },
  {
   "cell_type": "code",
   "execution_count": 42,
   "metadata": {
    "execution": {
     "iopub.execute_input": "2022-05-12T07:17:42.339307Z",
     "iopub.status.busy": "2022-05-12T07:17:42.339044Z",
     "iopub.status.idle": "2022-05-12T07:18:57.831261Z",
     "shell.execute_reply": "2022-05-12T07:18:57.829983Z",
     "shell.execute_reply.started": "2022-05-12T07:17:42.339269Z"
    }
   },
   "outputs": [],
   "source": [
    "from simplet5 import SimpleT5\n",
    "\n",
    "model = SimpleT5()\n",
    "model.from_pretrained(model_type=\"t5\", model_name=\"t5-small\")\n",
    "# last_epoch_model = 'models/t5/simplet5-epoch-7-train-loss-3.0596-val-loss-2.5233/' # put the name here\n",
    "# model.load_model(\"t5\", last_epoch_model, use_gpu=True)\n",
    "# model.load_model(\"t5\", last_epoch_model, use_gpu=True)\n",
    "# model.train(train_df=df,\n",
    "#             eval_df=df2, \n",
    "#             source_max_token_len=256,\n",
    "#             target_max_token_len=2048, \n",
    "#             batch_size=1, \n",
    "#             max_epochs=5, \n",
    "#             outputdir = \"models/t5\",\n",
    "#             use_gpu=True\n",
    "# )"
   ]
  },
  {
   "cell_type": "code",
   "execution_count": 43,
   "metadata": {
    "execution": {
     "iopub.execute_input": "2022-05-12T07:14:45.709120Z",
     "iopub.status.busy": "2022-05-12T07:14:45.708745Z",
     "iopub.status.idle": "2022-05-12T07:14:50.963891Z",
     "shell.execute_reply": "2022-05-12T07:14:50.962798Z",
     "shell.execute_reply.started": "2022-05-12T07:14:45.709069Z"
    }
   },
   "outputs": [],
   "source": [
    "# last_epoch_model = 'models/t5/simplet5-epoch-4-train-loss-2.9414-val-loss-2.4271/' # put the name here\n",
    "# model.load_model(\"t5\", last_epoch_model, use_gpu=True)\n",
    "model.load_model(\"t5\", 't5-small', use_gpu=False)"
   ]
  },
  {
   "cell_type": "code",
   "execution_count": 53,
   "metadata": {
    "execution": {
     "iopub.execute_input": "2022-05-12T07:16:00.093733Z",
     "iopub.status.busy": "2022-05-12T07:16:00.093292Z",
     "iopub.status.idle": "2022-05-12T07:16:00.406501Z",
     "shell.execute_reply": "2022-05-12T07:16:00.405629Z",
     "shell.execute_reply.started": "2022-05-12T07:16:00.093686Z"
    }
   },
   "outputs": [
    {
     "name": "stdout",
     "output_type": "stream",
     "text": [
      "['what is going on, is it me or is this just crappy? I am not the only one who has been to blame for his actions.']\n"
     ]
    }
   ],
   "source": [
    "prediction = model.predict('summarize: What is going on, is it me or is this just crappy', max_length=100, repetition_penalty = 100.0)\n",
    "print(prediction)"
   ]
  }
 ],
 "metadata": {
  "kernelspec": {
   "display_name": "Python 3 (ipykernel)",
   "language": "python",
   "name": "python3"
  },
  "language_info": {
   "codemirror_mode": {
    "name": "ipython",
    "version": 3
   },
   "file_extension": ".py",
   "mimetype": "text/x-python",
   "name": "python",
   "nbconvert_exporter": "python",
   "pygments_lexer": "ipython3",
   "version": "3.7.9"
  }
 },
 "nbformat": 4,
 "nbformat_minor": 4
}
