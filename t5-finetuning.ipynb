{
 "cells": [
  {
   "cell_type": "code",
   "execution_count": 1,
   "metadata": {
    "_cell_guid": "b1076dfc-b9ad-4769-8c92-a6c4dae69d19",
    "_uuid": "8f2839f25d086af736a60e9eeb907d3b93b6e0e5",
    "execution": {
     "iopub.execute_input": "2022-05-12T07:17:11.665995Z",
     "iopub.status.busy": "2022-05-12T07:17:11.665669Z",
     "iopub.status.idle": "2022-05-12T07:17:11.713579Z",
     "shell.execute_reply": "2022-05-12T07:17:11.712876Z",
     "shell.execute_reply.started": "2022-05-12T07:17:11.665914Z"
    }
   },
   "outputs": [],
   "source": [
    "# This Pythohttp://localhost:8888/notebooks/t5-finetuning.ipynb#n 3 environment comes with many helpful analytics libraries installed\n",
    "# It is defined by the kaggle/python Docker image: https://github.com/kaggle/docker-python\n",
    "# For example, here's several helpful packages to load\n",
    "\n",
    "import numpy as np # linear algebra\n",
    "import pandas as pd # data processing, CSV file I/O (e.g. pd.read_csv)\n",
    "\n",
    "# Input data files are available in the read-only \"../input/\" directory\n",
    "# For example, running this (by clicking run or pressing Shift+Enter) will list all files under the input directory\n",
    "\n",
    "import os\n",
    "for dirname, _, filenames in os.walk('/kaggle/input'):\n",
    "    for filename in filenames:\n",
    "        print(os.path.join(dirname, filename))\n",
    "\n",
    "# You can write up to 20GB to the current directory (/kaggle/working/) that gets preserved as output when you create a version using \"Save & Run All\" \n",
    "# You can also write temporary files to /kaggle/temp/, but they won't be saved outside of the current session"
   ]
  },
  {
   "cell_type": "code",
   "execution_count": 2,
   "metadata": {
    "execution": {
     "iopub.execute_input": "2022-05-12T07:17:11.716843Z",
     "iopub.status.busy": "2022-05-12T07:17:11.716416Z",
     "iopub.status.idle": "2022-05-12T07:17:41.765097Z",
     "shell.execute_reply": "2022-05-12T07:17:41.764229Z",
     "shell.execute_reply.started": "2022-05-12T07:17:11.716796Z"
    }
   },
   "outputs": [],
   "source": [
    "!pip install simplet5"
   ]
  },
  {
   "cell_type": "code",
   "execution_count": 3,
   "metadata": {
    "execution": {
     "iopub.execute_input": "2022-05-12T07:17:41.770218Z",
     "iopub.status.busy": "2022-05-12T07:17:41.769946Z",
     "iopub.status.idle": "2022-05-12T07:17:42.337560Z",
     "shell.execute_reply": "2022-05-12T07:17:42.336839Z",
     "shell.execute_reply.started": "2022-05-12T07:17:41.770182Z"
    }
   },
   "outputs": [],
   "source": [
    "df = pd.read_csv('/kaggle/input/lm-finetuning/t5_data.csv', sep='\\t', encoding='utf-8')\n",
    "\n",
    "df2 = df.tail(50)"
   ]
  },
  {
   "cell_type": "code",
   "execution_count": 4,
   "metadata": {
    "execution": {
     "iopub.execute_input": "2022-05-12T07:17:42.339307Z",
     "iopub.status.busy": "2022-05-12T07:17:42.339044Z",
     "iopub.status.idle": "2022-05-12T07:18:57.831261Z",
     "shell.execute_reply": "2022-05-12T07:18:57.829983Z",
     "shell.execute_reply.started": "2022-05-12T07:17:42.339269Z"
    }
   },
   "outputs": [],
   "source": [
    "from simplet5 import SimpleT5\n",
    "\n",
    "model = SimpleT5()\n",
    "model.from_pretrained(model_type=\"t5\", model_name=\"t5-small\")\n",
    "model.train(train_df=df,\n",
    "            eval_df=df2, \n",
    "            source_max_token_len=256,\n",
    "            target_max_token_len=2048, \n",
    "            batch_size=1, \n",
    "            max_epochs=5, \n",
    "            outputdir = \"models/t5\",\n",
    "            use_gpu=True\n",
    ")"
   ]
  },
  {
   "cell_type": "code",
   "execution_count": 10,
   "metadata": {
    "execution": {
     "iopub.execute_input": "2022-05-12T07:14:45.709120Z",
     "iopub.status.busy": "2022-05-12T07:14:45.708745Z",
     "iopub.status.idle": "2022-05-12T07:14:50.963891Z",
     "shell.execute_reply": "2022-05-12T07:14:50.962798Z",
     "shell.execute_reply.started": "2022-05-12T07:14:45.709069Z"
    }
   },
   "outputs": [],
   "source": [
    "last_epoch_model = \"t5-small\" # put the name here\n",
    "# model.load_model(\"t5\", last_epoch_model, use_gpu=True)\n",
    "model.load_model(\"t5\", last_epoch_model, use_gpu=False)"
   ]
  },
  {
   "cell_type": "code",
   "execution_count": 15,
   "metadata": {
    "execution": {
     "iopub.execute_input": "2022-05-12T07:16:00.093733Z",
     "iopub.status.busy": "2022-05-12T07:16:00.093292Z",
     "iopub.status.idle": "2022-05-12T07:16:00.406501Z",
     "shell.execute_reply": "2022-05-12T07:16:00.405629Z",
     "shell.execute_reply.started": "2022-05-12T07:16:00.093686Z"
    }
   },
   "outputs": [],
   "source": [
    "prediction = model.predict('Hello my name is Tim and I love ')[0]\n",
    "print(prediction)"
   ]
  },
  {
   "cell_type": "code",
   "execution_count": null,
   "metadata": {
    "execution": {
     "iopub.status.busy": "2022-05-12T07:14:09.660408Z",
     "iopub.status.idle": "2022-05-12T07:14:09.660808Z",
     "shell.execute_reply": "2022-05-12T07:14:09.660614Z",
     "shell.execute_reply.started": "2022-05-12T07:14:09.660590Z"
    }
   },
   "outputs": [],
   "source": [
    "!ls /kaggle/working\n"
   ]
  },
  {
   "cell_type": "code",
   "execution_count": null,
   "metadata": {
    "execution": {
     "iopub.status.busy": "2022-05-12T07:14:09.662511Z",
     "iopub.status.idle": "2022-05-12T07:14:09.662886Z",
     "shell.execute_reply": "2022-05-12T07:14:09.662719Z",
     "shell.execute_reply.started": "2022-05-12T07:14:09.662682Z"
    }
   },
   "outputs": [],
   "source": [
    "!ls simplet5-epoch-4-train-loss-3.2978-val-loss-2.8016"
   ]
  },
  {
   "cell_type": "code",
   "execution_count": null,
   "metadata": {
    "execution": {
     "iopub.status.busy": "2022-05-12T07:14:09.664143Z",
     "iopub.status.idle": "2022-05-12T07:14:09.664476Z",
     "shell.execute_reply": "2022-05-12T07:14:09.664324Z",
     "shell.execute_reply.started": "2022-05-12T07:14:09.664300Z"
    }
   },
   "outputs": [],
   "source": [
    "from IPython.display import FileLink\n",
    "display(FileLink('/kaggle/working/simplet5-epoch-4-train-loss-3.2867-val-loss-2.7846/spiece.model'))"
   ]
  }
 ],
 "metadata": {
  "kernelspec": {
   "display_name": "Python 3 (ipykernel)",
   "language": "python",
   "name": "python3"
  },
  "language_info": {
   "codemirror_mode": {
    "name": "ipython",
    "version": 3
   },
   "file_extension": ".py",
   "mimetype": "text/x-python",
   "name": "python",
   "nbconvert_exporter": "python",
   "pygments_lexer": "ipython3",
   "version": "3.7.9"
  }
 },
 "nbformat": 4,
 "nbformat_minor": 4
}
